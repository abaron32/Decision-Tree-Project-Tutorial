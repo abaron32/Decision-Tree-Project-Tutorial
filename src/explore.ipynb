{
    "cells": [
        {
            "cell_type": "markdown",
            "metadata": {},
            "source": [
                "# Explore here\n",
                "\n"
            ]
        },
        {
            "cell_type": "code",
            "execution_count": 1,
            "metadata": {},
            "outputs": [],
            "source": [
                "# Import libraries\n",
                "import pandas as pd \n",
                "import numpy as np \n",
                "import matplotlib.pyplot as plt  \n",
                "import seaborn as sns\n",
                "import plotly.express as px\n",
                "from sklearn.model_selection import train_test_split\n",
                "import statsmodels.api as sm\n",
                "from sklearn import metrics\n",
                "from sklearn.model_selection import GridSearchCV\n",
                "from sklearn.pipeline import make_pipeline\n",
                "import pickle\n",
                "from sklearn.model_selection import cross_val_score\n",
                "from sklearn.tree import DecisionTreeClassifier\n",
                "from sklearn import tree\n",
                "from sklearn.metrics import confusion_matrix\n",
                "from sklearn.metrics import ConfusionMatrixDisplay\n",
                "from sklearn.metrics import classification_report"
            ]
        },
        {
            "cell_type": "code",
            "execution_count": 2,
            "metadata": {},
            "outputs": [],
            "source": [
                "url = 'https://raw.githubusercontent.com/4GeeksAcademy/decision-tree-project-tutorial/main/diabetes.csv'\n",
                "df_raw = pd.read_csv(url)"
            ]
        },
        {
            "cell_type": "code",
            "execution_count": 3,
            "metadata": {},
            "outputs": [
                {
                    "name": "stdout",
                    "output_type": "stream",
                    "text": [
                        "<class 'pandas.core.frame.DataFrame'>\n",
                        "RangeIndex: 768 entries, 0 to 767\n",
                        "Data columns (total 9 columns):\n",
                        " #   Column                    Non-Null Count  Dtype  \n",
                        "---  ------                    --------------  -----  \n",
                        " 0   Pregnancies               768 non-null    int64  \n",
                        " 1   Glucose                   768 non-null    int64  \n",
                        " 2   BloodPressure             768 non-null    int64  \n",
                        " 3   SkinThickness             768 non-null    int64  \n",
                        " 4   Insulin                   768 non-null    int64  \n",
                        " 5   BMI                       768 non-null    float64\n",
                        " 6   DiabetesPedigreeFunction  768 non-null    float64\n",
                        " 7   Age                       768 non-null    int64  \n",
                        " 8   Outcome                   768 non-null    int64  \n",
                        "dtypes: float64(2), int64(7)\n",
                        "memory usage: 54.1 KB\n"
                    ]
                }
            ],
            "source": [
                "df_raw.info()"
            ]
        },
        {
            "cell_type": "code",
            "execution_count": 4,
            "metadata": {},
            "outputs": [
                {
                    "data": {
                        "text/html": [
                            "<div>\n",
                            "<style scoped>\n",
                            "    .dataframe tbody tr th:only-of-type {\n",
                            "        vertical-align: middle;\n",
                            "    }\n",
                            "\n",
                            "    .dataframe tbody tr th {\n",
                            "        vertical-align: top;\n",
                            "    }\n",
                            "\n",
                            "    .dataframe thead th {\n",
                            "        text-align: right;\n",
                            "    }\n",
                            "</style>\n",
                            "<table border=\"1\" class=\"dataframe\">\n",
                            "  <thead>\n",
                            "    <tr style=\"text-align: right;\">\n",
                            "      <th></th>\n",
                            "      <th>Pregnancies</th>\n",
                            "      <th>Glucose</th>\n",
                            "      <th>BloodPressure</th>\n",
                            "      <th>SkinThickness</th>\n",
                            "      <th>Insulin</th>\n",
                            "      <th>BMI</th>\n",
                            "      <th>DiabetesPedigreeFunction</th>\n",
                            "      <th>Age</th>\n",
                            "      <th>Outcome</th>\n",
                            "    </tr>\n",
                            "  </thead>\n",
                            "  <tbody>\n",
                            "    <tr>\n",
                            "      <th>521</th>\n",
                            "      <td>3</td>\n",
                            "      <td>124</td>\n",
                            "      <td>80</td>\n",
                            "      <td>33</td>\n",
                            "      <td>130</td>\n",
                            "      <td>33.2</td>\n",
                            "      <td>0.305</td>\n",
                            "      <td>26</td>\n",
                            "      <td>0</td>\n",
                            "    </tr>\n",
                            "    <tr>\n",
                            "      <th>176</th>\n",
                            "      <td>6</td>\n",
                            "      <td>85</td>\n",
                            "      <td>78</td>\n",
                            "      <td>0</td>\n",
                            "      <td>0</td>\n",
                            "      <td>31.2</td>\n",
                            "      <td>0.382</td>\n",
                            "      <td>42</td>\n",
                            "      <td>0</td>\n",
                            "    </tr>\n",
                            "    <tr>\n",
                            "      <th>680</th>\n",
                            "      <td>2</td>\n",
                            "      <td>56</td>\n",
                            "      <td>56</td>\n",
                            "      <td>28</td>\n",
                            "      <td>45</td>\n",
                            "      <td>24.2</td>\n",
                            "      <td>0.332</td>\n",
                            "      <td>22</td>\n",
                            "      <td>0</td>\n",
                            "    </tr>\n",
                            "    <tr>\n",
                            "      <th>468</th>\n",
                            "      <td>8</td>\n",
                            "      <td>120</td>\n",
                            "      <td>0</td>\n",
                            "      <td>0</td>\n",
                            "      <td>0</td>\n",
                            "      <td>30.0</td>\n",
                            "      <td>0.183</td>\n",
                            "      <td>38</td>\n",
                            "      <td>1</td>\n",
                            "    </tr>\n",
                            "    <tr>\n",
                            "      <th>151</th>\n",
                            "      <td>4</td>\n",
                            "      <td>114</td>\n",
                            "      <td>65</td>\n",
                            "      <td>0</td>\n",
                            "      <td>0</td>\n",
                            "      <td>21.9</td>\n",
                            "      <td>0.432</td>\n",
                            "      <td>37</td>\n",
                            "      <td>0</td>\n",
                            "    </tr>\n",
                            "  </tbody>\n",
                            "</table>\n",
                            "</div>"
                        ],
                        "text/plain": [
                            "     Pregnancies  Glucose  BloodPressure  SkinThickness  Insulin   BMI  \\\n",
                            "521            3      124             80             33      130  33.2   \n",
                            "176            6       85             78              0        0  31.2   \n",
                            "680            2       56             56             28       45  24.2   \n",
                            "468            8      120              0              0        0  30.0   \n",
                            "151            4      114             65              0        0  21.9   \n",
                            "\n",
                            "     DiabetesPedigreeFunction  Age  Outcome  \n",
                            "521                     0.305   26        0  \n",
                            "176                     0.382   42        0  \n",
                            "680                     0.332   22        0  \n",
                            "468                     0.183   38        1  \n",
                            "151                     0.432   37        0  "
                        ]
                    },
                    "execution_count": 4,
                    "metadata": {},
                    "output_type": "execute_result"
                }
            ],
            "source": [
                "df_raw.sample(5)"
            ]
        },
        {
            "cell_type": "code",
            "execution_count": 5,
            "metadata": {},
            "outputs": [
                {
                    "data": {
                        "text/html": [
                            "<div>\n",
                            "<style scoped>\n",
                            "    .dataframe tbody tr th:only-of-type {\n",
                            "        vertical-align: middle;\n",
                            "    }\n",
                            "\n",
                            "    .dataframe tbody tr th {\n",
                            "        vertical-align: top;\n",
                            "    }\n",
                            "\n",
                            "    .dataframe thead th {\n",
                            "        text-align: right;\n",
                            "    }\n",
                            "</style>\n",
                            "<table border=\"1\" class=\"dataframe\">\n",
                            "  <thead>\n",
                            "    <tr style=\"text-align: right;\">\n",
                            "      <th></th>\n",
                            "      <th>Pregnancies</th>\n",
                            "      <th>Glucose</th>\n",
                            "      <th>BloodPressure</th>\n",
                            "      <th>SkinThickness</th>\n",
                            "      <th>Insulin</th>\n",
                            "      <th>BMI</th>\n",
                            "      <th>DiabetesPedigreeFunction</th>\n",
                            "      <th>Age</th>\n",
                            "      <th>Outcome</th>\n",
                            "    </tr>\n",
                            "  </thead>\n",
                            "  <tbody>\n",
                            "    <tr>\n",
                            "      <th>count</th>\n",
                            "      <td>768.000000</td>\n",
                            "      <td>768.000000</td>\n",
                            "      <td>768.000000</td>\n",
                            "      <td>768.000000</td>\n",
                            "      <td>768.000000</td>\n",
                            "      <td>768.000000</td>\n",
                            "      <td>768.000000</td>\n",
                            "      <td>768.000000</td>\n",
                            "      <td>768.000000</td>\n",
                            "    </tr>\n",
                            "    <tr>\n",
                            "      <th>mean</th>\n",
                            "      <td>3.845052</td>\n",
                            "      <td>120.894531</td>\n",
                            "      <td>69.105469</td>\n",
                            "      <td>20.536458</td>\n",
                            "      <td>79.799479</td>\n",
                            "      <td>31.992578</td>\n",
                            "      <td>0.471876</td>\n",
                            "      <td>33.240885</td>\n",
                            "      <td>0.348958</td>\n",
                            "    </tr>\n",
                            "    <tr>\n",
                            "      <th>std</th>\n",
                            "      <td>3.369578</td>\n",
                            "      <td>31.972618</td>\n",
                            "      <td>19.355807</td>\n",
                            "      <td>15.952218</td>\n",
                            "      <td>115.244002</td>\n",
                            "      <td>7.884160</td>\n",
                            "      <td>0.331329</td>\n",
                            "      <td>11.760232</td>\n",
                            "      <td>0.476951</td>\n",
                            "    </tr>\n",
                            "    <tr>\n",
                            "      <th>min</th>\n",
                            "      <td>0.000000</td>\n",
                            "      <td>0.000000</td>\n",
                            "      <td>0.000000</td>\n",
                            "      <td>0.000000</td>\n",
                            "      <td>0.000000</td>\n",
                            "      <td>0.000000</td>\n",
                            "      <td>0.078000</td>\n",
                            "      <td>21.000000</td>\n",
                            "      <td>0.000000</td>\n",
                            "    </tr>\n",
                            "    <tr>\n",
                            "      <th>25%</th>\n",
                            "      <td>1.000000</td>\n",
                            "      <td>99.000000</td>\n",
                            "      <td>62.000000</td>\n",
                            "      <td>0.000000</td>\n",
                            "      <td>0.000000</td>\n",
                            "      <td>27.300000</td>\n",
                            "      <td>0.243750</td>\n",
                            "      <td>24.000000</td>\n",
                            "      <td>0.000000</td>\n",
                            "    </tr>\n",
                            "    <tr>\n",
                            "      <th>50%</th>\n",
                            "      <td>3.000000</td>\n",
                            "      <td>117.000000</td>\n",
                            "      <td>72.000000</td>\n",
                            "      <td>23.000000</td>\n",
                            "      <td>30.500000</td>\n",
                            "      <td>32.000000</td>\n",
                            "      <td>0.372500</td>\n",
                            "      <td>29.000000</td>\n",
                            "      <td>0.000000</td>\n",
                            "    </tr>\n",
                            "    <tr>\n",
                            "      <th>75%</th>\n",
                            "      <td>6.000000</td>\n",
                            "      <td>140.250000</td>\n",
                            "      <td>80.000000</td>\n",
                            "      <td>32.000000</td>\n",
                            "      <td>127.250000</td>\n",
                            "      <td>36.600000</td>\n",
                            "      <td>0.626250</td>\n",
                            "      <td>41.000000</td>\n",
                            "      <td>1.000000</td>\n",
                            "    </tr>\n",
                            "    <tr>\n",
                            "      <th>max</th>\n",
                            "      <td>17.000000</td>\n",
                            "      <td>199.000000</td>\n",
                            "      <td>122.000000</td>\n",
                            "      <td>99.000000</td>\n",
                            "      <td>846.000000</td>\n",
                            "      <td>67.100000</td>\n",
                            "      <td>2.420000</td>\n",
                            "      <td>81.000000</td>\n",
                            "      <td>1.000000</td>\n",
                            "    </tr>\n",
                            "  </tbody>\n",
                            "</table>\n",
                            "</div>"
                        ],
                        "text/plain": [
                            "       Pregnancies     Glucose  BloodPressure  SkinThickness     Insulin  \\\n",
                            "count   768.000000  768.000000     768.000000     768.000000  768.000000   \n",
                            "mean      3.845052  120.894531      69.105469      20.536458   79.799479   \n",
                            "std       3.369578   31.972618      19.355807      15.952218  115.244002   \n",
                            "min       0.000000    0.000000       0.000000       0.000000    0.000000   \n",
                            "25%       1.000000   99.000000      62.000000       0.000000    0.000000   \n",
                            "50%       3.000000  117.000000      72.000000      23.000000   30.500000   \n",
                            "75%       6.000000  140.250000      80.000000      32.000000  127.250000   \n",
                            "max      17.000000  199.000000     122.000000      99.000000  846.000000   \n",
                            "\n",
                            "              BMI  DiabetesPedigreeFunction         Age     Outcome  \n",
                            "count  768.000000                768.000000  768.000000  768.000000  \n",
                            "mean    31.992578                  0.471876   33.240885    0.348958  \n",
                            "std      7.884160                  0.331329   11.760232    0.476951  \n",
                            "min      0.000000                  0.078000   21.000000    0.000000  \n",
                            "25%     27.300000                  0.243750   24.000000    0.000000  \n",
                            "50%     32.000000                  0.372500   29.000000    0.000000  \n",
                            "75%     36.600000                  0.626250   41.000000    1.000000  \n",
                            "max     67.100000                  2.420000   81.000000    1.000000  "
                        ]
                    },
                    "execution_count": 5,
                    "metadata": {},
                    "output_type": "execute_result"
                }
            ],
            "source": [
                "df_raw.describe()"
            ]
        },
        {
            "cell_type": "code",
            "execution_count": 6,
            "metadata": {},
            "outputs": [
                {
                    "data": {
                        "text/html": [
                            "<div>\n",
                            "<style scoped>\n",
                            "    .dataframe tbody tr th:only-of-type {\n",
                            "        vertical-align: middle;\n",
                            "    }\n",
                            "\n",
                            "    .dataframe tbody tr th {\n",
                            "        vertical-align: top;\n",
                            "    }\n",
                            "\n",
                            "    .dataframe thead th {\n",
                            "        text-align: right;\n",
                            "    }\n",
                            "</style>\n",
                            "<table border=\"1\" class=\"dataframe\">\n",
                            "  <thead>\n",
                            "    <tr style=\"text-align: right;\">\n",
                            "      <th></th>\n",
                            "      <th>Pregnancies</th>\n",
                            "      <th>Glucose</th>\n",
                            "      <th>BloodPressure</th>\n",
                            "      <th>SkinThickness</th>\n",
                            "      <th>Insulin</th>\n",
                            "      <th>BMI</th>\n",
                            "      <th>DiabetesPedigreeFunction</th>\n",
                            "      <th>Age</th>\n",
                            "      <th>Outcome</th>\n",
                            "    </tr>\n",
                            "  </thead>\n",
                            "  <tbody>\n",
                            "    <tr>\n",
                            "      <th>9</th>\n",
                            "      <td>8</td>\n",
                            "      <td>125</td>\n",
                            "      <td>96</td>\n",
                            "      <td>0</td>\n",
                            "      <td>0</td>\n",
                            "      <td>0.0</td>\n",
                            "      <td>0.232</td>\n",
                            "      <td>54</td>\n",
                            "      <td>1</td>\n",
                            "    </tr>\n",
                            "    <tr>\n",
                            "      <th>49</th>\n",
                            "      <td>7</td>\n",
                            "      <td>105</td>\n",
                            "      <td>0</td>\n",
                            "      <td>0</td>\n",
                            "      <td>0</td>\n",
                            "      <td>0.0</td>\n",
                            "      <td>0.305</td>\n",
                            "      <td>24</td>\n",
                            "      <td>0</td>\n",
                            "    </tr>\n",
                            "    <tr>\n",
                            "      <th>60</th>\n",
                            "      <td>2</td>\n",
                            "      <td>84</td>\n",
                            "      <td>0</td>\n",
                            "      <td>0</td>\n",
                            "      <td>0</td>\n",
                            "      <td>0.0</td>\n",
                            "      <td>0.304</td>\n",
                            "      <td>21</td>\n",
                            "      <td>0</td>\n",
                            "    </tr>\n",
                            "    <tr>\n",
                            "      <th>81</th>\n",
                            "      <td>2</td>\n",
                            "      <td>74</td>\n",
                            "      <td>0</td>\n",
                            "      <td>0</td>\n",
                            "      <td>0</td>\n",
                            "      <td>0.0</td>\n",
                            "      <td>0.102</td>\n",
                            "      <td>22</td>\n",
                            "      <td>0</td>\n",
                            "    </tr>\n",
                            "    <tr>\n",
                            "      <th>145</th>\n",
                            "      <td>0</td>\n",
                            "      <td>102</td>\n",
                            "      <td>75</td>\n",
                            "      <td>23</td>\n",
                            "      <td>0</td>\n",
                            "      <td>0.0</td>\n",
                            "      <td>0.572</td>\n",
                            "      <td>21</td>\n",
                            "      <td>0</td>\n",
                            "    </tr>\n",
                            "    <tr>\n",
                            "      <th>371</th>\n",
                            "      <td>0</td>\n",
                            "      <td>118</td>\n",
                            "      <td>64</td>\n",
                            "      <td>23</td>\n",
                            "      <td>89</td>\n",
                            "      <td>0.0</td>\n",
                            "      <td>1.731</td>\n",
                            "      <td>21</td>\n",
                            "      <td>0</td>\n",
                            "    </tr>\n",
                            "    <tr>\n",
                            "      <th>426</th>\n",
                            "      <td>0</td>\n",
                            "      <td>94</td>\n",
                            "      <td>0</td>\n",
                            "      <td>0</td>\n",
                            "      <td>0</td>\n",
                            "      <td>0.0</td>\n",
                            "      <td>0.256</td>\n",
                            "      <td>25</td>\n",
                            "      <td>0</td>\n",
                            "    </tr>\n",
                            "    <tr>\n",
                            "      <th>494</th>\n",
                            "      <td>3</td>\n",
                            "      <td>80</td>\n",
                            "      <td>0</td>\n",
                            "      <td>0</td>\n",
                            "      <td>0</td>\n",
                            "      <td>0.0</td>\n",
                            "      <td>0.174</td>\n",
                            "      <td>22</td>\n",
                            "      <td>0</td>\n",
                            "    </tr>\n",
                            "    <tr>\n",
                            "      <th>522</th>\n",
                            "      <td>6</td>\n",
                            "      <td>114</td>\n",
                            "      <td>0</td>\n",
                            "      <td>0</td>\n",
                            "      <td>0</td>\n",
                            "      <td>0.0</td>\n",
                            "      <td>0.189</td>\n",
                            "      <td>26</td>\n",
                            "      <td>0</td>\n",
                            "    </tr>\n",
                            "    <tr>\n",
                            "      <th>684</th>\n",
                            "      <td>5</td>\n",
                            "      <td>136</td>\n",
                            "      <td>82</td>\n",
                            "      <td>0</td>\n",
                            "      <td>0</td>\n",
                            "      <td>0.0</td>\n",
                            "      <td>0.640</td>\n",
                            "      <td>69</td>\n",
                            "      <td>0</td>\n",
                            "    </tr>\n",
                            "    <tr>\n",
                            "      <th>706</th>\n",
                            "      <td>10</td>\n",
                            "      <td>115</td>\n",
                            "      <td>0</td>\n",
                            "      <td>0</td>\n",
                            "      <td>0</td>\n",
                            "      <td>0.0</td>\n",
                            "      <td>0.261</td>\n",
                            "      <td>30</td>\n",
                            "      <td>1</td>\n",
                            "    </tr>\n",
                            "  </tbody>\n",
                            "</table>\n",
                            "</div>"
                        ],
                        "text/plain": [
                            "     Pregnancies  Glucose  BloodPressure  SkinThickness  Insulin  BMI  \\\n",
                            "9              8      125             96              0        0  0.0   \n",
                            "49             7      105              0              0        0  0.0   \n",
                            "60             2       84              0              0        0  0.0   \n",
                            "81             2       74              0              0        0  0.0   \n",
                            "145            0      102             75             23        0  0.0   \n",
                            "371            0      118             64             23       89  0.0   \n",
                            "426            0       94              0              0        0  0.0   \n",
                            "494            3       80              0              0        0  0.0   \n",
                            "522            6      114              0              0        0  0.0   \n",
                            "684            5      136             82              0        0  0.0   \n",
                            "706           10      115              0              0        0  0.0   \n",
                            "\n",
                            "     DiabetesPedigreeFunction  Age  Outcome  \n",
                            "9                       0.232   54        1  \n",
                            "49                      0.305   24        0  \n",
                            "60                      0.304   21        0  \n",
                            "81                      0.102   22        0  \n",
                            "145                     0.572   21        0  \n",
                            "371                     1.731   21        0  \n",
                            "426                     0.256   25        0  \n",
                            "494                     0.174   22        0  \n",
                            "522                     0.189   26        0  \n",
                            "684                     0.640   69        0  \n",
                            "706                     0.261   30        1  "
                        ]
                    },
                    "execution_count": 6,
                    "metadata": {},
                    "output_type": "execute_result"
                }
            ],
            "source": [
                "df_raw[df_raw['BMI']==0]"
            ]
        },
        {
            "cell_type": "code",
            "execution_count": 4,
            "metadata": {},
            "outputs": [
                {
                    "data": {
                        "text/html": [
                            "<div>\n",
                            "<style scoped>\n",
                            "    .dataframe tbody tr th:only-of-type {\n",
                            "        vertical-align: middle;\n",
                            "    }\n",
                            "\n",
                            "    .dataframe tbody tr th {\n",
                            "        vertical-align: top;\n",
                            "    }\n",
                            "\n",
                            "    .dataframe thead th {\n",
                            "        text-align: right;\n",
                            "    }\n",
                            "</style>\n",
                            "<table border=\"1\" class=\"dataframe\">\n",
                            "  <thead>\n",
                            "    <tr style=\"text-align: right;\">\n",
                            "      <th></th>\n",
                            "      <th>Pregnancies</th>\n",
                            "      <th>Glucose</th>\n",
                            "      <th>BloodPressure</th>\n",
                            "      <th>SkinThickness</th>\n",
                            "      <th>Insulin</th>\n",
                            "      <th>BMI</th>\n",
                            "      <th>DiabetesPedigreeFunction</th>\n",
                            "      <th>Age</th>\n",
                            "      <th>Outcome</th>\n",
                            "    </tr>\n",
                            "  </thead>\n",
                            "  <tbody>\n",
                            "    <tr>\n",
                            "      <th>0</th>\n",
                            "      <td>6</td>\n",
                            "      <td>148</td>\n",
                            "      <td>72</td>\n",
                            "      <td>35</td>\n",
                            "      <td>0</td>\n",
                            "      <td>33.6</td>\n",
                            "      <td>0.627</td>\n",
                            "      <td>50</td>\n",
                            "      <td>1</td>\n",
                            "    </tr>\n",
                            "    <tr>\n",
                            "      <th>1</th>\n",
                            "      <td>1</td>\n",
                            "      <td>85</td>\n",
                            "      <td>66</td>\n",
                            "      <td>29</td>\n",
                            "      <td>0</td>\n",
                            "      <td>26.6</td>\n",
                            "      <td>0.351</td>\n",
                            "      <td>31</td>\n",
                            "      <td>0</td>\n",
                            "    </tr>\n",
                            "    <tr>\n",
                            "      <th>2</th>\n",
                            "      <td>8</td>\n",
                            "      <td>183</td>\n",
                            "      <td>64</td>\n",
                            "      <td>0</td>\n",
                            "      <td>0</td>\n",
                            "      <td>23.3</td>\n",
                            "      <td>0.672</td>\n",
                            "      <td>32</td>\n",
                            "      <td>1</td>\n",
                            "    </tr>\n",
                            "    <tr>\n",
                            "      <th>3</th>\n",
                            "      <td>1</td>\n",
                            "      <td>89</td>\n",
                            "      <td>66</td>\n",
                            "      <td>23</td>\n",
                            "      <td>94</td>\n",
                            "      <td>28.1</td>\n",
                            "      <td>0.167</td>\n",
                            "      <td>21</td>\n",
                            "      <td>0</td>\n",
                            "    </tr>\n",
                            "    <tr>\n",
                            "      <th>4</th>\n",
                            "      <td>0</td>\n",
                            "      <td>137</td>\n",
                            "      <td>40</td>\n",
                            "      <td>35</td>\n",
                            "      <td>168</td>\n",
                            "      <td>43.1</td>\n",
                            "      <td>2.288</td>\n",
                            "      <td>33</td>\n",
                            "      <td>1</td>\n",
                            "    </tr>\n",
                            "    <tr>\n",
                            "      <th>...</th>\n",
                            "      <td>...</td>\n",
                            "      <td>...</td>\n",
                            "      <td>...</td>\n",
                            "      <td>...</td>\n",
                            "      <td>...</td>\n",
                            "      <td>...</td>\n",
                            "      <td>...</td>\n",
                            "      <td>...</td>\n",
                            "      <td>...</td>\n",
                            "    </tr>\n",
                            "    <tr>\n",
                            "      <th>763</th>\n",
                            "      <td>10</td>\n",
                            "      <td>101</td>\n",
                            "      <td>76</td>\n",
                            "      <td>48</td>\n",
                            "      <td>180</td>\n",
                            "      <td>32.9</td>\n",
                            "      <td>0.171</td>\n",
                            "      <td>63</td>\n",
                            "      <td>0</td>\n",
                            "    </tr>\n",
                            "    <tr>\n",
                            "      <th>764</th>\n",
                            "      <td>2</td>\n",
                            "      <td>122</td>\n",
                            "      <td>70</td>\n",
                            "      <td>27</td>\n",
                            "      <td>0</td>\n",
                            "      <td>36.8</td>\n",
                            "      <td>0.340</td>\n",
                            "      <td>27</td>\n",
                            "      <td>0</td>\n",
                            "    </tr>\n",
                            "    <tr>\n",
                            "      <th>765</th>\n",
                            "      <td>5</td>\n",
                            "      <td>121</td>\n",
                            "      <td>72</td>\n",
                            "      <td>23</td>\n",
                            "      <td>112</td>\n",
                            "      <td>26.2</td>\n",
                            "      <td>0.245</td>\n",
                            "      <td>30</td>\n",
                            "      <td>0</td>\n",
                            "    </tr>\n",
                            "    <tr>\n",
                            "      <th>766</th>\n",
                            "      <td>1</td>\n",
                            "      <td>126</td>\n",
                            "      <td>60</td>\n",
                            "      <td>0</td>\n",
                            "      <td>0</td>\n",
                            "      <td>30.1</td>\n",
                            "      <td>0.349</td>\n",
                            "      <td>47</td>\n",
                            "      <td>1</td>\n",
                            "    </tr>\n",
                            "    <tr>\n",
                            "      <th>767</th>\n",
                            "      <td>1</td>\n",
                            "      <td>93</td>\n",
                            "      <td>70</td>\n",
                            "      <td>31</td>\n",
                            "      <td>0</td>\n",
                            "      <td>30.4</td>\n",
                            "      <td>0.315</td>\n",
                            "      <td>23</td>\n",
                            "      <td>0</td>\n",
                            "    </tr>\n",
                            "  </tbody>\n",
                            "</table>\n",
                            "<p>724 rows × 9 columns</p>\n",
                            "</div>"
                        ],
                        "text/plain": [
                            "     Pregnancies  Glucose  BloodPressure  SkinThickness  Insulin   BMI  \\\n",
                            "0              6      148             72             35        0  33.6   \n",
                            "1              1       85             66             29        0  26.6   \n",
                            "2              8      183             64              0        0  23.3   \n",
                            "3              1       89             66             23       94  28.1   \n",
                            "4              0      137             40             35      168  43.1   \n",
                            "..           ...      ...            ...            ...      ...   ...   \n",
                            "763           10      101             76             48      180  32.9   \n",
                            "764            2      122             70             27        0  36.8   \n",
                            "765            5      121             72             23      112  26.2   \n",
                            "766            1      126             60              0        0  30.1   \n",
                            "767            1       93             70             31        0  30.4   \n",
                            "\n",
                            "     DiabetesPedigreeFunction  Age  Outcome  \n",
                            "0                       0.627   50        1  \n",
                            "1                       0.351   31        0  \n",
                            "2                       0.672   32        1  \n",
                            "3                       0.167   21        0  \n",
                            "4                       2.288   33        1  \n",
                            "..                        ...  ...      ...  \n",
                            "763                     0.171   63        0  \n",
                            "764                     0.340   27        0  \n",
                            "765                     0.245   30        0  \n",
                            "766                     0.349   47        1  \n",
                            "767                     0.315   23        0  \n",
                            "\n",
                            "[724 rows x 9 columns]"
                        ]
                    },
                    "execution_count": 4,
                    "metadata": {},
                    "output_type": "execute_result"
                }
            ],
            "source": [
                "df_filter = df_raw.copy()\n",
                "df_filter = df_raw[(df_raw[\"BMI\"] > 0 ) & (df_raw[\"BloodPressure\"] > 0) & (df_raw[\"Glucose\"] > 0)]\n",
                "df_filter"
            ]
        },
        {
            "cell_type": "code",
            "execution_count": 8,
            "metadata": {},
            "outputs": [
                {
                    "name": "stdout",
                    "output_type": "stream",
                    "text": [
                        "The observations that have BMI, blood pressure or glucose equal to zero are removed.\n",
                        "By doing this we lose 44 observations.\n"
                    ]
                }
            ],
            "source": [
                "print('The observations that have BMI, blood pressure or glucose equal to zero are removed.')\n",
                "print(f'By doing this we lose {len(df_raw)-len(df_filter)} observations.')"
            ]
        },
        {
            "cell_type": "code",
            "execution_count": 5,
            "metadata": {},
            "outputs": [
                {
                    "data": {
                        "text/plain": [
                            "0    475\n",
                            "1    249\n",
                            "Name: Outcome, dtype: int64"
                        ]
                    },
                    "execution_count": 5,
                    "metadata": {},
                    "output_type": "execute_result"
                }
            ],
            "source": [
                "df_filter['Outcome'].value_counts()"
            ]
        },
        {
            "cell_type": "code",
            "execution_count": 6,
            "metadata": {},
            "outputs": [
                {
                    "data": {
                        "text/plain": [
                            "<AxesSubplot:>"
                        ]
                    },
                    "execution_count": 6,
                    "metadata": {},
                    "output_type": "execute_result"
                },
                {
                    "data": {
                        "image/png": "[encoded data removed]",
                        "text/plain": [
                            "<Figure size 432x288 with 1 Axes>"
                        ]
                    },
                    "metadata": {
                        "needs_background": "light"
                    },
                    "output_type": "display_data"
                }
            ],
            "source": [
                "df_filter['Pregnancies'].hist()"
            ]
        },
        {
            "cell_type": "code",
            "execution_count": 7,
            "metadata": {},
            "outputs": [
                {
                    "name": "stderr",
                    "output_type": "stream",
                    "text": [
                        "/tmp/ipykernel_975/1346911940.py:1: UserWarning: Boolean Series key will be reindexed to match DataFrame index.\n",
                        "  df_filter[df_raw['Pregnancies']>4].describe()\n"
                    ]
                },
                {
                    "data": {
                        "text/html": [
                            "<div>\n",
                            "<style scoped>\n",
                            "    .dataframe tbody tr th:only-of-type {\n",
                            "        vertical-align: middle;\n",
                            "    }\n",
                            "\n",
                            "    .dataframe tbody tr th {\n",
                            "        vertical-align: top;\n",
                            "    }\n",
                            "\n",
                            "    .dataframe thead th {\n",
                            "        text-align: right;\n",
                            "    }\n",
                            "</style>\n",
                            "<table border=\"1\" class=\"dataframe\">\n",
                            "  <thead>\n",
                            "    <tr style=\"text-align: right;\">\n",
                            "      <th></th>\n",
                            "      <th>Pregnancies</th>\n",
                            "      <th>Glucose</th>\n",
                            "      <th>BloodPressure</th>\n",
                            "      <th>SkinThickness</th>\n",
                            "      <th>Insulin</th>\n",
                            "      <th>BMI</th>\n",
                            "      <th>DiabetesPedigreeFunction</th>\n",
                            "      <th>Age</th>\n",
                            "      <th>Outcome</th>\n",
                            "    </tr>\n",
                            "  </thead>\n",
                            "  <tbody>\n",
                            "    <tr>\n",
                            "      <th>count</th>\n",
                            "      <td>261.000000</td>\n",
                            "      <td>261.000000</td>\n",
                            "      <td>261.000000</td>\n",
                            "      <td>261.000000</td>\n",
                            "      <td>261.000000</td>\n",
                            "      <td>261.000000</td>\n",
                            "      <td>261.000000</td>\n",
                            "      <td>261.000000</td>\n",
                            "      <td>261.000000</td>\n",
                            "    </tr>\n",
                            "    <tr>\n",
                            "      <th>mean</th>\n",
                            "      <td>7.662835</td>\n",
                            "      <td>127.524904</td>\n",
                            "      <td>76.130268</td>\n",
                            "      <td>19.490421</td>\n",
                            "      <td>71.938697</td>\n",
                            "      <td>32.816092</td>\n",
                            "      <td>0.459613</td>\n",
                            "      <td>42.157088</td>\n",
                            "      <td>0.475096</td>\n",
                            "    </tr>\n",
                            "    <tr>\n",
                            "      <th>std</th>\n",
                            "      <td>2.376430</td>\n",
                            "      <td>32.109374</td>\n",
                            "      <td>11.294582</td>\n",
                            "      <td>16.564469</td>\n",
                            "      <td>113.404297</td>\n",
                            "      <td>6.116916</td>\n",
                            "      <td>0.298338</td>\n",
                            "      <td>10.464695</td>\n",
                            "      <td>0.500339</td>\n",
                            "    </tr>\n",
                            "    <tr>\n",
                            "      <th>min</th>\n",
                            "      <td>5.000000</td>\n",
                            "      <td>44.000000</td>\n",
                            "      <td>44.000000</td>\n",
                            "      <td>0.000000</td>\n",
                            "      <td>0.000000</td>\n",
                            "      <td>19.600000</td>\n",
                            "      <td>0.084000</td>\n",
                            "      <td>22.000000</td>\n",
                            "      <td>0.000000</td>\n",
                            "    </tr>\n",
                            "    <tr>\n",
                            "      <th>25%</th>\n",
                            "      <td>6.000000</td>\n",
                            "      <td>104.000000</td>\n",
                            "      <td>70.000000</td>\n",
                            "      <td>0.000000</td>\n",
                            "      <td>0.000000</td>\n",
                            "      <td>28.200000</td>\n",
                            "      <td>0.245000</td>\n",
                            "      <td>34.000000</td>\n",
                            "      <td>0.000000</td>\n",
                            "    </tr>\n",
                            "    <tr>\n",
                            "      <th>50%</th>\n",
                            "      <td>7.000000</td>\n",
                            "      <td>124.000000</td>\n",
                            "      <td>76.000000</td>\n",
                            "      <td>24.000000</td>\n",
                            "      <td>0.000000</td>\n",
                            "      <td>32.900000</td>\n",
                            "      <td>0.368000</td>\n",
                            "      <td>41.000000</td>\n",
                            "      <td>0.000000</td>\n",
                            "    </tr>\n",
                            "    <tr>\n",
                            "      <th>75%</th>\n",
                            "      <td>9.000000</td>\n",
                            "      <td>151.000000</td>\n",
                            "      <td>82.000000</td>\n",
                            "      <td>33.000000</td>\n",
                            "      <td>126.000000</td>\n",
                            "      <td>36.600000</td>\n",
                            "      <td>0.640000</td>\n",
                            "      <td>49.000000</td>\n",
                            "      <td>1.000000</td>\n",
                            "    </tr>\n",
                            "    <tr>\n",
                            "      <th>max</th>\n",
                            "      <td>17.000000</td>\n",
                            "      <td>197.000000</td>\n",
                            "      <td>114.000000</td>\n",
                            "      <td>54.000000</td>\n",
                            "      <td>600.000000</td>\n",
                            "      <td>52.900000</td>\n",
                            "      <td>1.476000</td>\n",
                            "      <td>81.000000</td>\n",
                            "      <td>1.000000</td>\n",
                            "    </tr>\n",
                            "  </tbody>\n",
                            "</table>\n",
                            "</div>"
                        ],
                        "text/plain": [
                            "       Pregnancies     Glucose  BloodPressure  SkinThickness     Insulin  \\\n",
                            "count   261.000000  261.000000     261.000000     261.000000  261.000000   \n",
                            "mean      7.662835  127.524904      76.130268      19.490421   71.938697   \n",
                            "std       2.376430   32.109374      11.294582      16.564469  113.404297   \n",
                            "min       5.000000   44.000000      44.000000       0.000000    0.000000   \n",
                            "25%       6.000000  104.000000      70.000000       0.000000    0.000000   \n",
                            "50%       7.000000  124.000000      76.000000      24.000000    0.000000   \n",
                            "75%       9.000000  151.000000      82.000000      33.000000  126.000000   \n",
                            "max      17.000000  197.000000     114.000000      54.000000  600.000000   \n",
                            "\n",
                            "              BMI  DiabetesPedigreeFunction         Age     Outcome  \n",
                            "count  261.000000                261.000000  261.000000  261.000000  \n",
                            "mean    32.816092                  0.459613   42.157088    0.475096  \n",
                            "std      6.116916                  0.298338   10.464695    0.500339  \n",
                            "min     19.600000                  0.084000   22.000000    0.000000  \n",
                            "25%     28.200000                  0.245000   34.000000    0.000000  \n",
                            "50%     32.900000                  0.368000   41.000000    0.000000  \n",
                            "75%     36.600000                  0.640000   49.000000    1.000000  \n",
                            "max     52.900000                  1.476000   81.000000    1.000000  "
                        ]
                    },
                    "execution_count": 7,
                    "metadata": {},
                    "output_type": "execute_result"
                }
            ],
            "source": [
                "df_filter[df_raw['Pregnancies']>4].describe()"
            ]
        },
        {
            "cell_type": "code",
            "execution_count": 8,
            "metadata": {},
            "outputs": [
                {
                    "data": {
                        "text/html": [
                            "<div>\n",
                            "<style scoped>\n",
                            "    .dataframe tbody tr th:only-of-type {\n",
                            "        vertical-align: middle;\n",
                            "    }\n",
                            "\n",
                            "    .dataframe tbody tr th {\n",
                            "        vertical-align: top;\n",
                            "    }\n",
                            "\n",
                            "    .dataframe thead th {\n",
                            "        text-align: right;\n",
                            "    }\n",
                            "</style>\n",
                            "<table border=\"1\" class=\"dataframe\">\n",
                            "  <thead>\n",
                            "    <tr style=\"text-align: right;\">\n",
                            "      <th></th>\n",
                            "      <th>Pregnancies</th>\n",
                            "      <th>Glucose</th>\n",
                            "      <th>BloodPressure</th>\n",
                            "      <th>SkinThickness</th>\n",
                            "      <th>Insulin</th>\n",
                            "      <th>BMI</th>\n",
                            "      <th>DiabetesPedigreeFunction</th>\n",
                            "      <th>Age</th>\n",
                            "      <th>Outcome</th>\n",
                            "    </tr>\n",
                            "  </thead>\n",
                            "  <tbody>\n",
                            "    <tr>\n",
                            "      <th>count</th>\n",
                            "      <td>36.000000</td>\n",
                            "      <td>36.000000</td>\n",
                            "      <td>36.000000</td>\n",
                            "      <td>36.000000</td>\n",
                            "      <td>36.000000</td>\n",
                            "      <td>36.000000</td>\n",
                            "      <td>36.000000</td>\n",
                            "      <td>36.000000</td>\n",
                            "      <td>36.000000</td>\n",
                            "    </tr>\n",
                            "    <tr>\n",
                            "      <th>mean</th>\n",
                            "      <td>5.611111</td>\n",
                            "      <td>116.305556</td>\n",
                            "      <td>71.916667</td>\n",
                            "      <td>21.333333</td>\n",
                            "      <td>58.583333</td>\n",
                            "      <td>31.997222</td>\n",
                            "      <td>0.373694</td>\n",
                            "      <td>27.472222</td>\n",
                            "      <td>0.305556</td>\n",
                            "    </tr>\n",
                            "    <tr>\n",
                            "      <th>std</th>\n",
                            "      <td>0.903257</td>\n",
                            "      <td>26.057979</td>\n",
                            "      <td>11.900480</td>\n",
                            "      <td>16.117426</td>\n",
                            "      <td>89.373494</td>\n",
                            "      <td>6.954566</td>\n",
                            "      <td>0.172111</td>\n",
                            "      <td>2.104229</td>\n",
                            "      <td>0.467177</td>\n",
                            "    </tr>\n",
                            "    <tr>\n",
                            "      <th>min</th>\n",
                            "      <td>5.000000</td>\n",
                            "      <td>73.000000</td>\n",
                            "      <td>48.000000</td>\n",
                            "      <td>0.000000</td>\n",
                            "      <td>0.000000</td>\n",
                            "      <td>19.900000</td>\n",
                            "      <td>0.157000</td>\n",
                            "      <td>22.000000</td>\n",
                            "      <td>0.000000</td>\n",
                            "    </tr>\n",
                            "    <tr>\n",
                            "      <th>25%</th>\n",
                            "      <td>5.000000</td>\n",
                            "      <td>101.250000</td>\n",
                            "      <td>64.000000</td>\n",
                            "      <td>0.000000</td>\n",
                            "      <td>0.000000</td>\n",
                            "      <td>26.725000</td>\n",
                            "      <td>0.256500</td>\n",
                            "      <td>26.750000</td>\n",
                            "      <td>0.000000</td>\n",
                            "    </tr>\n",
                            "    <tr>\n",
                            "      <th>50%</th>\n",
                            "      <td>5.000000</td>\n",
                            "      <td>111.000000</td>\n",
                            "      <td>72.000000</td>\n",
                            "      <td>28.000000</td>\n",
                            "      <td>0.000000</td>\n",
                            "      <td>30.700000</td>\n",
                            "      <td>0.349000</td>\n",
                            "      <td>28.000000</td>\n",
                            "      <td>0.000000</td>\n",
                            "    </tr>\n",
                            "    <tr>\n",
                            "      <th>75%</th>\n",
                            "      <td>6.000000</td>\n",
                            "      <td>126.500000</td>\n",
                            "      <td>80.000000</td>\n",
                            "      <td>35.000000</td>\n",
                            "      <td>114.000000</td>\n",
                            "      <td>35.550000</td>\n",
                            "      <td>0.450250</td>\n",
                            "      <td>29.000000</td>\n",
                            "      <td>1.000000</td>\n",
                            "    </tr>\n",
                            "    <tr>\n",
                            "      <th>max</th>\n",
                            "      <td>9.000000</td>\n",
                            "      <td>189.000000</td>\n",
                            "      <td>98.000000</td>\n",
                            "      <td>41.000000</td>\n",
                            "      <td>325.000000</td>\n",
                            "      <td>52.900000</td>\n",
                            "      <td>0.878000</td>\n",
                            "      <td>30.000000</td>\n",
                            "      <td>1.000000</td>\n",
                            "    </tr>\n",
                            "  </tbody>\n",
                            "</table>\n",
                            "</div>"
                        ],
                        "text/plain": [
                            "       Pregnancies     Glucose  BloodPressure  SkinThickness     Insulin  \\\n",
                            "count    36.000000   36.000000      36.000000      36.000000   36.000000   \n",
                            "mean      5.611111  116.305556      71.916667      21.333333   58.583333   \n",
                            "std       0.903257   26.057979      11.900480      16.117426   89.373494   \n",
                            "min       5.000000   73.000000      48.000000       0.000000    0.000000   \n",
                            "25%       5.000000  101.250000      64.000000       0.000000    0.000000   \n",
                            "50%       5.000000  111.000000      72.000000      28.000000    0.000000   \n",
                            "75%       6.000000  126.500000      80.000000      35.000000  114.000000   \n",
                            "max       9.000000  189.000000      98.000000      41.000000  325.000000   \n",
                            "\n",
                            "             BMI  DiabetesPedigreeFunction        Age    Outcome  \n",
                            "count  36.000000                 36.000000  36.000000  36.000000  \n",
                            "mean   31.997222                  0.373694  27.472222   0.305556  \n",
                            "std     6.954566                  0.172111   2.104229   0.467177  \n",
                            "min    19.900000                  0.157000  22.000000   0.000000  \n",
                            "25%    26.725000                  0.256500  26.750000   0.000000  \n",
                            "50%    30.700000                  0.349000  28.000000   0.000000  \n",
                            "75%    35.550000                  0.450250  29.000000   1.000000  \n",
                            "max    52.900000                  0.878000  30.000000   1.000000  "
                        ]
                    },
                    "execution_count": 8,
                    "metadata": {},
                    "output_type": "execute_result"
                }
            ],
            "source": [
                "df_filter[(df_filter['Age']<31) & (df_filter['Pregnancies']>4)].describe()"
            ]
        },
        {
            "cell_type": "code",
            "execution_count": 9,
            "metadata": {},
            "outputs": [
                {
                    "data": {
                        "image/png": "[encoded data removed]",
                        "text/plain": [
                            "<Figure size 432x288 with 9 Axes>"
                        ]
                    },
                    "metadata": {
                        "needs_background": "light"
                    },
                    "output_type": "display_data"
                }
            ],
            "source": [
                "df_filter.hist()\n",
                "plt.show()"
            ]
        },
        {
            "cell_type": "code",
            "execution_count": 10,
            "metadata": {},
            "outputs": [
                {
                    "data": {
                        "text/plain": [
                            "<AxesSubplot:>"
                        ]
                    },
                    "execution_count": 10,
                    "metadata": {},
                    "output_type": "execute_result"
                },
                {
                    "data": {
                        "image/png": "[encoded data removed]",
                        "text/plain": [
                            "<Figure size 432x288 with 2 Axes>"
                        ]
                    },
                    "metadata": {
                        "needs_background": "light"
                    },
                    "output_type": "display_data"
                }
            ],
            "source": [
                "sns.heatmap(df_filter.corr(),annot=True)"
            ]
        },
        {
            "cell_type": "code",
            "execution_count": 11,
            "metadata": {},
            "outputs": [],
            "source": [
                "X = df_filter.drop('Outcome', axis=1)\n",
                "y = df_filter[['Outcome']]\n",
                "X_train, X_test, y_train, y_test = train_test_split(X, y, random_state=34)"
            ]
        },
        {
            "cell_type": "code",
            "execution_count": 12,
            "metadata": {},
            "outputs": [
                {
                    "name": "stdout",
                    "output_type": "stream",
                    "text": [
                        "Accuracy: 0.6408839779005525\n"
                    ]
                }
            ],
            "source": [
                "clf = DecisionTreeClassifier(criterion='entropy',random_state=0)\n",
                "\n",
                "clf.fit(X_train, y_train)\n",
                "print('Accuracy:',clf.score(X_test, y_test))"
            ]
        },
        {
            "cell_type": "code",
            "execution_count": 13,
            "metadata": {},
            "outputs": [],
            "source": [
                "clf_pred=clf.predict(X_test)"
            ]
        },
        {
            "cell_type": "code",
            "execution_count": 14,
            "metadata": {},
            "outputs": [
                {
                    "data": {
                        "image/png": "[encoded data removed]",
                        "text/plain": [
                            "<Figure size 432x288 with 2 Axes>"
                        ]
                    },
                    "metadata": {
                        "needs_background": "light"
                    },
                    "output_type": "display_data"
                }
            ],
            "source": [
                "cm = confusion_matrix(y_test, clf_pred, labels=clf.classes_)\n",
                "disp = ConfusionMatrixDisplay(confusion_matrix=cm,\n",
                "display_labels=clf.classes_)\n",
                "disp.plot()\n",
                "\n",
                "plt.show()"
            ]
        },
        {
            "cell_type": "code",
            "execution_count": 25,
            "metadata": {},
            "outputs": [
                {
                    "name": "stdout",
                    "output_type": "stream",
                    "text": [
                        "              precision    recall  f1-score   support\n",
                        "\n",
                        "           0       0.68      0.74      0.71       108\n",
                        "           1       0.56      0.49      0.53        73\n",
                        "\n",
                        "    accuracy                           0.64       181\n",
                        "   macro avg       0.62      0.62      0.62       181\n",
                        "weighted avg       0.63      0.64      0.64       181\n",
                        "\n"
                    ]
                }
            ],
            "source": [
                "print(classification_report(y_test,clf_pred))"
            ]
        },
        {
            "cell_type": "code",
            "execution_count": 17,
            "metadata": {},
            "outputs": [
                {
                    "data": {
                        "image/png": "[encoded data removed]",
                        "text/plain": [
                            "<Figure size 720x576 with 1 Axes>"
                        ]
                    },
                    "metadata": {
                        "needs_background": "light"
                    },
                    "output_type": "display_data"
                }
            ],
            "source": [
                "plt.figure(figsize=(10,8))\n",
                "tree.plot_tree(clf)\n",
                "plt.show()"
            ]
        },
        {
            "cell_type": "markdown",
            "metadata": {},
            "source": [
                "Tree and CV"
            ]
        },
        {
            "cell_type": "code",
            "execution_count": 15,
            "metadata": {},
            "outputs": [
                {
                    "name": "stdout",
                    "output_type": "stream",
                    "text": [
                        "Fitting 3 folds for each of 648 candidates, totalling 1944 fits\n"
                    ]
                },
                {
                    "name": "stderr",
                    "output_type": "stream",
                    "text": [
                        "/home/gitpod/.pyenv/versions/3.8.13/lib/python3.8/site-packages/sklearn/model_selection/_validation.py:378: FitFailedWarning: \n",
                        "216 fits failed out of a total of 1944.\n",
                        "The score on these train-test partitions for these parameters will be set to nan.\n",
                        "If these failures are not expected, you can try to debug them by setting error_score='raise'.\n",
                        "\n",
                        "Below are more details about the failures:\n",
                        "--------------------------------------------------------------------------------\n",
                        "216 fits failed with the following error:\n",
                        "Traceback (most recent call last):\n",
                        "  File \"/home/gitpod/.pyenv/versions/3.8.13/lib/python3.8/site-packages/sklearn/model_selection/_validation.py\", line 686, in _fit_and_score\n",
                        "    estimator.fit(X_train, y_train, **fit_params)\n",
                        "  File \"/home/gitpod/.pyenv/versions/3.8.13/lib/python3.8/site-packages/sklearn/tree/_classes.py\", line 969, in fit\n",
                        "    super().fit(\n",
                        "  File \"/home/gitpod/.pyenv/versions/3.8.13/lib/python3.8/site-packages/sklearn/tree/_classes.py\", line 265, in fit\n",
                        "    check_scalar(\n",
                        "  File \"/home/gitpod/.pyenv/versions/3.8.13/lib/python3.8/site-packages/sklearn/utils/validation.py\", line 1480, in check_scalar\n",
                        "    raise ValueError(\n",
                        "ValueError: min_samples_split == 1, must be >= 2.\n",
                        "\n",
                        "  warnings.warn(some_fits_failed_message, FitFailedWarning)\n",
                        "/home/gitpod/.pyenv/versions/3.8.13/lib/python3.8/site-packages/sklearn/model_selection/_search.py:953: UserWarning: One or more of the test scores are non-finite: [       nan 0.76611418 0.76611418 0.76611418 0.76611418 0.76611418\n",
                        " 0.76611418 0.76611418 0.76611418        nan 0.76611418 0.76611418\n",
                        " 0.76611418 0.76611418 0.76611418 0.76611418 0.76611418 0.76611418\n",
                        "        nan 0.76611418 0.76611418 0.76611418 0.76611418 0.76611418\n",
                        " 0.76611418 0.76611418 0.76611418        nan 0.76611418 0.76611418\n",
                        " 0.76611418 0.76611418 0.76611418 0.76611418 0.76611418 0.76611418\n",
                        "        nan 0.76611418 0.76611418 0.76611418 0.76611418 0.76611418\n",
                        " 0.76611418 0.76611418 0.76611418        nan 0.76611418 0.76611418\n",
                        " 0.76611418 0.76611418 0.76611418 0.76611418 0.76611418 0.76611418\n",
                        "        nan 0.76611418 0.76611418 0.76611418 0.76611418 0.76611418\n",
                        " 0.76611418 0.76611418 0.76611418        nan 0.76611418 0.76611418\n",
                        " 0.76611418 0.76611418 0.76611418 0.76611418 0.76611418 0.76611418\n",
                        "        nan 0.72928177 0.72928177 0.72928177 0.72928177 0.72928177\n",
                        " 0.72928177 0.72928177 0.72928177        nan 0.72928177 0.72928177\n",
                        " 0.72928177 0.72928177 0.72928177 0.72928177 0.72928177 0.72928177\n",
                        "        nan 0.73296501 0.73296501 0.73296501 0.73296501 0.73296501\n",
                        " 0.73296501 0.73296501 0.73296501        nan 0.73480663 0.73480663\n",
                        " 0.73480663 0.73480663 0.73480663 0.73480663 0.73480663 0.73480663\n",
                        "        nan 0.75506446 0.75506446 0.75322284 0.75322284 0.75322284\n",
                        " 0.75322284 0.75322284 0.75322284        nan 0.75690608 0.75690608\n",
                        " 0.75690608 0.75690608 0.75690608 0.75690608 0.75690608 0.75690608\n",
                        "        nan 0.76058932 0.76058932 0.76058932 0.76058932 0.76058932\n",
                        " 0.76058932 0.76058932 0.76058932        nan 0.76243094 0.76243094\n",
                        " 0.76243094 0.76243094 0.76243094 0.76243094 0.76243094 0.76243094\n",
                        "        nan 0.74953959 0.74769797 0.75322284 0.75138122 0.75506446\n",
                        " 0.75506446 0.75506446 0.75506446        nan 0.75322284 0.75322284\n",
                        " 0.75322284 0.75138122 0.75138122 0.75322284 0.75322284 0.75322284\n",
                        "        nan 0.7587477  0.7587477  0.7587477  0.7587477  0.7587477\n",
                        " 0.76058932 0.76058932 0.76058932        nan 0.76058932 0.76058932\n",
                        " 0.76058932 0.76058932 0.76058932 0.76058932 0.76058932 0.76058932\n",
                        "        nan 0.72928177 0.72928177 0.73112339 0.72928177 0.73112339\n",
                        " 0.73112339 0.73848987 0.73848987        nan 0.74953959 0.74953959\n",
                        " 0.74953959 0.74769797 0.74953959 0.74769797 0.74953959 0.74953959\n",
                        "        nan 0.75322284 0.75322284 0.75322284 0.75322284 0.75322284\n",
                        " 0.75138122 0.74769797 0.74769797        nan 0.72928177 0.72928177\n",
                        " 0.72928177 0.72928177 0.72928177 0.72928177 0.72928177 0.73848987\n",
                        "        nan 0.73480663 0.73112339 0.73664825 0.73480663 0.73480663\n",
                        " 0.73848987 0.74033149 0.74217311        nan 0.74953959 0.74953959\n",
                        " 0.74953959 0.74585635 0.74585635 0.73848987 0.74033149 0.74217311\n",
                        "        nan 0.75322284 0.75322284 0.75322284 0.75322284 0.75322284\n",
                        " 0.74769797 0.75506446 0.75506446        nan 0.73480663 0.73480663\n",
                        " 0.73480663 0.73480663 0.73480663 0.73480663 0.73480663 0.74401473\n",
                        "        nan 0.72744015 0.73112339 0.72375691 0.72928177 0.73112339\n",
                        " 0.72559853 0.72928177 0.72928177        nan 0.74585635 0.74585635\n",
                        " 0.74585635 0.74033149 0.74401473 0.74401473 0.74769797 0.75138122\n",
                        "        nan 0.74401473 0.74401473 0.74401473 0.74401473 0.74401473\n",
                        " 0.74769797 0.74585635 0.74585635        nan 0.73296501 0.73296501\n",
                        " 0.73296501 0.73296501 0.73296501 0.73296501 0.73296501 0.74585635\n",
                        "        nan 0.74033149 0.73848987 0.73848987 0.73112339 0.73480663\n",
                        " 0.73480663 0.73664825 0.73480663        nan 0.75138122 0.75138122\n",
                        " 0.75138122 0.74769797 0.74585635 0.74401473 0.74769797 0.74217311\n",
                        "        nan 0.74769797 0.74769797 0.74769797 0.74769797 0.74769797\n",
                        " 0.73848987 0.74033149 0.73848987        nan 0.72928177 0.72928177\n",
                        " 0.72928177 0.72928177 0.72928177 0.72928177 0.72928177 0.73848987\n",
                        "        nan 0.71086556 0.71086556 0.71086556 0.71086556 0.71086556\n",
                        " 0.71086556 0.71086556 0.71086556        nan 0.71086556 0.71086556\n",
                        " 0.71086556 0.71086556 0.71086556 0.71086556 0.71086556 0.71086556\n",
                        "        nan 0.71086556 0.71086556 0.71086556 0.71086556 0.71086556\n",
                        " 0.71086556 0.71086556 0.71086556        nan 0.71086556 0.71086556\n",
                        " 0.71086556 0.71086556 0.71086556 0.71086556 0.71086556 0.71086556\n",
                        "        nan 0.76243094 0.76243094 0.76243094 0.76243094 0.76243094\n",
                        " 0.76243094 0.76243094 0.76243094        nan 0.76243094 0.76243094\n",
                        " 0.76243094 0.76243094 0.76243094 0.76243094 0.76243094 0.76243094\n",
                        "        nan 0.76243094 0.76243094 0.76243094 0.76243094 0.76243094\n",
                        " 0.76243094 0.76243094 0.76243094        nan 0.76243094 0.76243094\n",
                        " 0.76243094 0.76243094 0.76243094 0.76243094 0.76243094 0.76243094\n",
                        "        nan 0.75690608 0.75690608 0.75690608 0.75690608 0.75690608\n",
                        " 0.75690608 0.75690608 0.75690608        nan 0.75690608 0.75690608\n",
                        " 0.75690608 0.75690608 0.75690608 0.75690608 0.75690608 0.75690608\n",
                        "        nan 0.75690608 0.75690608 0.75690608 0.75690608 0.75690608\n",
                        " 0.75690608 0.75690608 0.75690608        nan 0.76058932 0.76058932\n",
                        " 0.76058932 0.76058932 0.76058932 0.76058932 0.76058932 0.76058932\n",
                        "        nan 0.73112339 0.73112339 0.73112339 0.73112339 0.73112339\n",
                        " 0.73112339 0.73112339 0.73112339        nan 0.73296501 0.73296501\n",
                        " 0.73296501 0.73296501 0.73296501 0.73296501 0.73296501 0.73296501\n",
                        "        nan 0.73112339 0.73112339 0.73112339 0.73112339 0.73112339\n",
                        " 0.73112339 0.73112339 0.73112339        nan 0.73112339 0.73112339\n",
                        " 0.73112339 0.73112339 0.73112339 0.73112339 0.73112339 0.73112339\n",
                        "        nan 0.74769797 0.74769797 0.74769797 0.74769797 0.74953959\n",
                        " 0.74953959 0.74953959 0.74953959        nan 0.74953959 0.74953959\n",
                        " 0.74953959 0.74953959 0.74953959 0.74953959 0.74953959 0.74953959\n",
                        "        nan 0.75138122 0.75138122 0.75138122 0.75138122 0.75138122\n",
                        " 0.75138122 0.74769797 0.74769797        nan 0.75138122 0.75138122\n",
                        " 0.75138122 0.75138122 0.75138122 0.75138122 0.75138122 0.75138122\n",
                        "        nan 0.73112339 0.73112339 0.72744015 0.72744015 0.72375691\n",
                        " 0.72007366 0.71639042 0.7145488         nan 0.72191529 0.72191529\n",
                        " 0.72191529 0.72191529 0.72007366 0.71639042 0.71639042 0.7145488\n",
                        "        nan 0.72007366 0.72007366 0.72007366 0.72007366 0.72007366\n",
                        " 0.71823204 0.7145488  0.71270718        nan 0.70902394 0.70902394\n",
                        " 0.70902394 0.70902394 0.70902394 0.70902394 0.70902394 0.70718232\n",
                        "        nan 0.72007366 0.72007366 0.71270718 0.7145488  0.7145488\n",
                        " 0.7145488  0.71086556 0.70718232        nan 0.7053407  0.7053407\n",
                        " 0.7053407  0.70349908 0.71086556 0.71086556 0.71086556 0.70718232\n",
                        "        nan 0.7145488  0.7145488  0.7145488  0.7145488  0.7145488\n",
                        " 0.71639042 0.70165746 0.70165746        nan 0.73112339 0.73112339\n",
                        " 0.73112339 0.73112339 0.73112339 0.73112339 0.73112339 0.73112339\n",
                        "        nan 0.72375691 0.72375691 0.72191529 0.72007366 0.72007366\n",
                        " 0.72928177 0.72559853 0.72375691        nan 0.72191529 0.72191529\n",
                        " 0.72191529 0.72007366 0.72191529 0.73112339 0.72928177 0.72375691\n",
                        "        nan 0.72559853 0.72559853 0.72559853 0.72559853 0.72559853\n",
                        " 0.71270718 0.72191529 0.71823204        nan 0.7145488  0.7145488\n",
                        " 0.7145488  0.7145488  0.7145488  0.7145488  0.7145488  0.71270718\n",
                        "        nan 0.73480663 0.74585635 0.74033149 0.74585635 0.74953959\n",
                        " 0.74953959 0.74401473 0.74217311        nan 0.74033149 0.74033149\n",
                        " 0.74033149 0.74217311 0.75322284 0.74953959 0.74769797 0.74401473\n",
                        "        nan 0.73480663 0.73480663 0.73480663 0.73480663 0.73480663\n",
                        " 0.74033149 0.74401473 0.73664825        nan 0.75322284 0.75322284\n",
                        " 0.75322284 0.75322284 0.75322284 0.75322284 0.75322284 0.75138122]\n",
                        "  warnings.warn(\n"
                    ]
                },
                {
                    "data": {
                        "text/html": [
                            "<style>#sk-container-id-1 {color: black;background-color: white;}#sk-container-id-1 pre{padding: 0;}#sk-container-id-1 div.sk-toggleable {background-color: white;}#sk-container-id-1 label.sk-toggleable__label {cursor: pointer;display: block;width: 100%;margin-bottom: 0;padding: 0.3em;box-sizing: border-box;text-align: center;}#sk-container-id-1 label.sk-toggleable__label-arrow:before {content: \"▸\";float: left;margin-right: 0.25em;color: #696969;}#sk-container-id-1 label.sk-toggleable__label-arrow:hover:before {color: black;}#sk-container-id-1 div.sk-estimator:hover label.sk-toggleable__label-arrow:before {color: black;}#sk-container-id-1 div.sk-toggleable__content {max-height: 0;max-width: 0;overflow: hidden;text-align: left;background-color: #f0f8ff;}#sk-container-id-1 div.sk-toggleable__content pre {margin: 0.2em;color: black;border-radius: 0.25em;background-color: #f0f8ff;}#sk-container-id-1 input.sk-toggleable__control:checked~div.sk-toggleable__content {max-height: 200px;max-width: 100%;overflow: auto;}#sk-container-id-1 input.sk-toggleable__control:checked~label.sk-toggleable__label-arrow:before {content: \"▾\";}#sk-container-id-1 div.sk-estimator input.sk-toggleable__control:checked~label.sk-toggleable__label {background-color: #d4ebff;}#sk-container-id-1 div.sk-label input.sk-toggleable__control:checked~label.sk-toggleable__label {background-color: #d4ebff;}#sk-container-id-1 input.sk-hidden--visually {border: 0;clip: rect(1px 1px 1px 1px);clip: rect(1px, 1px, 1px, 1px);height: 1px;margin: -1px;overflow: hidden;padding: 0;position: absolute;width: 1px;}#sk-container-id-1 div.sk-estimator {font-family: monospace;background-color: #f0f8ff;border: 1px dotted black;border-radius: 0.25em;box-sizing: border-box;margin-bottom: 0.5em;}#sk-container-id-1 div.sk-estimator:hover {background-color: #d4ebff;}#sk-container-id-1 div.sk-parallel-item::after {content: \"\";width: 100%;border-bottom: 1px solid gray;flex-grow: 1;}#sk-container-id-1 div.sk-label:hover label.sk-toggleable__label {background-color: #d4ebff;}#sk-container-id-1 div.sk-serial::before {content: \"\";position: absolute;border-left: 1px solid gray;box-sizing: border-box;top: 0;bottom: 0;left: 50%;z-index: 0;}#sk-container-id-1 div.sk-serial {display: flex;flex-direction: column;align-items: center;background-color: white;padding-right: 0.2em;padding-left: 0.2em;position: relative;}#sk-container-id-1 div.sk-item {position: relative;z-index: 1;}#sk-container-id-1 div.sk-parallel {display: flex;align-items: stretch;justify-content: center;background-color: white;position: relative;}#sk-container-id-1 div.sk-item::before, #sk-container-id-1 div.sk-parallel-item::before {content: \"\";position: absolute;border-left: 1px solid gray;box-sizing: border-box;top: 0;bottom: 0;left: 50%;z-index: -1;}#sk-container-id-1 div.sk-parallel-item {display: flex;flex-direction: column;z-index: 1;position: relative;background-color: white;}#sk-container-id-1 div.sk-parallel-item:first-child::after {align-self: flex-end;width: 50%;}#sk-container-id-1 div.sk-parallel-item:last-child::after {align-self: flex-start;width: 50%;}#sk-container-id-1 div.sk-parallel-item:only-child::after {width: 0;}#sk-container-id-1 div.sk-dashed-wrapped {border: 1px dashed gray;margin: 0 0.4em 0.5em 0.4em;box-sizing: border-box;padding-bottom: 0.4em;background-color: white;}#sk-container-id-1 div.sk-label label {font-family: monospace;font-weight: bold;display: inline-block;line-height: 1.2em;}#sk-container-id-1 div.sk-label-container {text-align: center;}#sk-container-id-1 div.sk-container {/* jupyter's `normalize.less` sets `[hidden] { display: none; }` but bootstrap.min.css set `[hidden] { display: none !important; }` so we also need the `!important` here to be able to override the default hidden behavior on the sphinx rendered scikit-learn.org. See: https://github.com/scikit-learn/scikit-learn/issues/21755 */display: inline-block !important;position: relative;}#sk-container-id-1 div.sk-text-repr-fallback {display: none;}</style><div id=\"sk-container-id-1\" class=\"sk-top-container\"><div class=\"sk-text-repr-fallback\"><pre>GridSearchCV(cv=3, estimator=DecisionTreeClassifier(random_state=0), n_jobs=-1,\n",
                            "             param_grid={&#x27;criterion&#x27;: [&#x27;gini&#x27;, &#x27;entropy&#x27;],\n",
                            "                         &#x27;max_depth&#x27;: range(1, 10),\n",
                            "                         &#x27;min_samples_leaf&#x27;: range(1, 5),\n",
                            "                         &#x27;min_samples_split&#x27;: range(1, 10)},\n",
                            "             verbose=1)</pre><b>In a Jupyter environment, please rerun this cell to show the HTML representation or trust the notebook. <br />On GitHub, the HTML representation is unable to render, please try loading this page with nbviewer.org.</b></div><div class=\"sk-container\" hidden><div class=\"sk-item sk-dashed-wrapped\"><div class=\"sk-label-container\"><div class=\"sk-label sk-toggleable\"><input class=\"sk-toggleable__control sk-hidden--visually\" id=\"sk-estimator-id-1\" type=\"checkbox\" ><label for=\"sk-estimator-id-1\" class=\"sk-toggleable__label sk-toggleable__label-arrow\">GridSearchCV</label><div class=\"sk-toggleable__content\"><pre>GridSearchCV(cv=3, estimator=DecisionTreeClassifier(random_state=0), n_jobs=-1,\n",
                            "             param_grid={&#x27;criterion&#x27;: [&#x27;gini&#x27;, &#x27;entropy&#x27;],\n",
                            "                         &#x27;max_depth&#x27;: range(1, 10),\n",
                            "                         &#x27;min_samples_leaf&#x27;: range(1, 5),\n",
                            "                         &#x27;min_samples_split&#x27;: range(1, 10)},\n",
                            "             verbose=1)</pre></div></div></div><div class=\"sk-parallel\"><div class=\"sk-parallel-item\"><div class=\"sk-item\"><div class=\"sk-label-container\"><div class=\"sk-label sk-toggleable\"><input class=\"sk-toggleable__control sk-hidden--visually\" id=\"sk-estimator-id-2\" type=\"checkbox\" ><label for=\"sk-estimator-id-2\" class=\"sk-toggleable__label sk-toggleable__label-arrow\">estimator: DecisionTreeClassifier</label><div class=\"sk-toggleable__content\"><pre>DecisionTreeClassifier(random_state=0)</pre></div></div></div><div class=\"sk-serial\"><div class=\"sk-item\"><div class=\"sk-estimator sk-toggleable\"><input class=\"sk-toggleable__control sk-hidden--visually\" id=\"sk-estimator-id-3\" type=\"checkbox\" ><label for=\"sk-estimator-id-3\" class=\"sk-toggleable__label sk-toggleable__label-arrow\">DecisionTreeClassifier</label><div class=\"sk-toggleable__content\"><pre>DecisionTreeClassifier(random_state=0)</pre></div></div></div></div></div></div></div></div></div></div>"
                        ],
                        "text/plain": [
                            "GridSearchCV(cv=3, estimator=DecisionTreeClassifier(random_state=0), n_jobs=-1,\n",
                            "             param_grid={'criterion': ['gini', 'entropy'],\n",
                            "                         'max_depth': range(1, 10),\n",
                            "                         'min_samples_leaf': range(1, 5),\n",
                            "                         'min_samples_split': range(1, 10)},\n",
                            "             verbose=1)"
                        ]
                    },
                    "execution_count": 15,
                    "metadata": {},
                    "output_type": "execute_result"
                }
            ],
            "source": [
                "params = {'criterion': ['gini', 'entropy'], 'max_depth': range(1,10), 'min_samples_split':range(1,10), 'min_samples_leaf': range(1,5)}\n",
                "grid = GridSearchCV(DecisionTreeClassifier(random_state=0), params, verbose=1, n_jobs=-1,cv=3)\n",
                "grid.fit(X_train, y_train) # fit the model at each grid point and keep the scores\n"
            ]
        },
        {
            "cell_type": "code",
            "execution_count": 16,
            "metadata": {},
            "outputs": [
                {
                    "data": {
                        "text/plain": [
                            "{'criterion': 'gini',\n",
                            " 'max_depth': 1,\n",
                            " 'min_samples_leaf': 1,\n",
                            " 'min_samples_split': 2}"
                        ]
                    },
                    "execution_count": 16,
                    "metadata": {},
                    "output_type": "execute_result"
                }
            ],
            "source": [
                "grid.best_params_ "
            ]
        },
        {
            "cell_type": "code",
            "execution_count": 17,
            "metadata": {},
            "outputs": [],
            "source": [
                "model_cv = grid.best_estimator_ # Parameter setting that gave the best results on the hold out data."
            ]
        },
        {
            "cell_type": "code",
            "execution_count": 18,
            "metadata": {},
            "outputs": [
                {
                    "data": {
                        "text/plain": [
                            "0.7661141804788213"
                        ]
                    },
                    "execution_count": 18,
                    "metadata": {},
                    "output_type": "execute_result"
                }
            ],
            "source": [
                "grid.best_score_ # Mean cross-validated score of the best_estimator"
            ]
        },
        {
            "cell_type": "code",
            "execution_count": 23,
            "metadata": {},
            "outputs": [
                {
                    "name": "stdout",
                    "output_type": "stream",
                    "text": [
                        "Accuracy of tree selected by CV in test set: 0.7071823204419889\n"
                    ]
                }
            ],
            "source": [
                "y_pred = model_cv.predict(X_test)\n",
                "\n",
                "print('Accuracy of tree selected by CV in test set:',np.mean(y_test['Outcome']==y_pred))"
            ]
        },
        {
            "cell_type": "code",
            "execution_count": 24,
            "metadata": {},
            "outputs": [
                {
                    "name": "stdout",
                    "output_type": "stream",
                    "text": [
                        "Accuracy of tree selected by CV in test set: 0.7071823204419889\n"
                    ]
                }
            ],
            "source": [
                "# Another way to calculate the accuracy (more direct)\n",
                "\n",
                "print('Accuracy of tree selected by CV in test set:',grid.score(X_test, y_test))\n",
                "\n",
                "# aca como se que esta calculando el score en el modelo estimado con X_train?"
            ]
        },
        {
            "cell_type": "code",
            "execution_count": 50,
            "metadata": {},
            "outputs": [
                {
                    "data": {
                        "image/png": "[encoded data removed]",
                        "text/plain": [
                            "<Figure size 432x288 with 2 Axes>"
                        ]
                    },
                    "metadata": {
                        "needs_background": "light"
                    },
                    "output_type": "display_data"
                }
            ],
            "source": [
                "cm = confusion_matrix(y_test, y_pred, labels=grid.classes_)\n",
                "disp = ConfusionMatrixDisplay(confusion_matrix=cm,\n",
                "display_labels=grid.classes_)\n",
                "disp.plot()\n",
                "\n",
                "plt.show()"
            ]
        },
        {
            "cell_type": "code",
            "execution_count": 52,
            "metadata": {},
            "outputs": [
                {
                    "name": "stdout",
                    "output_type": "stream",
                    "text": [
                        "              precision    recall  f1-score   support\n",
                        "\n",
                        "           0       0.71      0.87      0.78       108\n",
                        "           1       0.71      0.47      0.56        73\n",
                        "\n",
                        "    accuracy                           0.71       181\n",
                        "   macro avg       0.71      0.67      0.67       181\n",
                        "weighted avg       0.71      0.71      0.69       181\n",
                        "\n"
                    ]
                }
            ],
            "source": [
                "print(classification_report(y_test,y_pred))"
            ]
        },
        {
            "cell_type": "code",
            "execution_count": 56,
            "metadata": {},
            "outputs": [
                {
                    "data": {
                        "image/png": "[encoded data removed]",
                        "text/plain": [
                            "<Figure size 720x576 with 1 Axes>"
                        ]
                    },
                    "metadata": {
                        "needs_background": "light"
                    },
                    "output_type": "display_data"
                }
            ],
            "source": [
                "plt.figure(figsize=(10,8))\n",
                "tree.plot_tree(model_cv)\n",
                "plt.show()"
            ]
        },
        {
            "cell_type": "markdown",
            "metadata": {},
            "source": [
                "Random forest..."
            ]
        },
        {
            "cell_type": "code",
            "execution_count": 29,
            "metadata": {},
            "outputs": [
                {
                    "name": "stdout",
                    "output_type": "stream",
                    "text": [
                        "Accuracy random forest: 0.7182320441988951\n"
                    ]
                },
                {
                    "name": "stderr",
                    "output_type": "stream",
                    "text": [
                        "/tmp/ipykernel_975/2642730952.py:5: DataConversionWarning: A column-vector y was passed when a 1d array was expected. Please change the shape of y to (n_samples,), for example using ravel().\n",
                        "  rfc.fit(X_train, y_train)\n"
                    ]
                }
            ],
            "source": [
                "from sklearn.ensemble import RandomForestClassifier\n",
                "\n",
                "rfc = RandomForestClassifier(n_estimators=100, random_state=0)\n",
                "\n",
                "rfc.fit(X_train, y_train)\n",
                "\n",
                "print('Accuracy random forest:',rfc.score(X_test, y_test))"
            ]
        }
    ],
    "metadata": {
        "kernelspec": {
            "display_name": "Python 3.8.13 64-bit ('3.8.13')",
            "language": "python",
            "name": "python3"
        },
        "language_info": {
            "codemirror_mode": {
                "name": "ipython",
                "version": 3
            },
            "file_extension": ".py",
            "mimetype": "text/x-python",
            "name": "python",
            "nbconvert_exporter": "python",
            "pygments_lexer": "ipython3",
            "version": "3.8.13"
        },
        "orig_nbformat": 4,
        "vscode": {
            "interpreter": {
                "hash": "110cc1dee26208153f2972f08a2ad52b6a56238dc66d48e87fb757ef2996db56"
            }
        }
    },
    "nbformat": 4,
    "nbformat_minor": 2
}
